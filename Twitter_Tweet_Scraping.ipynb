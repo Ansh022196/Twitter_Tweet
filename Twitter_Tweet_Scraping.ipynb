{
  "nbformat": 4,
  "nbformat_minor": 0,
  "metadata": {
    "colab": {
      "private_outputs": true,
      "provenance": []
    },
    "kernelspec": {
      "name": "python3",
      "display_name": "Python 3"
    },
    "language_info": {
      "name": "python"
    }
  },
  "cells": [
    {
      "cell_type": "code",
      "execution_count": null,
      "metadata": {
        "id": "VxgZKna6C-ur"
      },
      "outputs": [],
      "source": [
        "import snscrape.modules.twitter as sntwitter\n",
        "import pandas as pd\n",
        "import numpy as np\n",
        "import re"
      ]
    },
    {
      "cell_type": "code",
      "source": [],
      "metadata": {
        "id": "G2m6DlnS0TKC"
      },
      "execution_count": null,
      "outputs": []
    },
    {
      "cell_type": "code",
      "source": [
        "pip install snscrape"
      ],
      "metadata": {
        "id": "U6L2kTqVztxt"
      },
      "execution_count": null,
      "outputs": []
    },
    {
      "cell_type": "code",
      "source": [],
      "metadata": {
        "id": "3Ztbn3Rtg1Dc"
      },
      "execution_count": null,
      "outputs": []
    },
    {
      "cell_type": "code",
      "source": [],
      "metadata": {
        "id": "xng3nMsrg1-b"
      },
      "execution_count": null,
      "outputs": []
    },
    {
      "cell_type": "code",
      "source": [],
      "metadata": {
        "id": "yvCzaEbcg2ER"
      },
      "execution_count": null,
      "outputs": []
    },
    {
      "cell_type": "code",
      "source": [
        "query = '\"Electric Vehicle\" lang:id' #this is the keyword\n",
        "limit = 10000 #total tweet we wanna scrap\n",
        "tweets = []\n",
        "try:\n",
        "    print('Start crawling')\n",
        "    for tweet in sntwitter.TwitterSearchScraper(query=query).get_items():\n",
        "        if len(tweets) == limit:\n",
        "            break\n",
        "        else:\n",
        "            if tweet.inReplyToUser is not None:\n",
        "                tweet_type = 'reply'\n",
        "                tweet_reply = re.findall(r'[/]\\w+', str(tweet.inReplyToUser))[-1].replace('/','')\n",
        "            elif tweet.quotedTweet is not None:\n",
        "                tweet_type = 'retweet'\n",
        "                tweet_reply = None\n",
        "            else:\n",
        "                tweet_type = 'original'\n",
        "                tweet_reply = None\n",
        "            tweets.append([tweet.conversationId,\n",
        "                           tweet.coordinates,\n",
        "                           tweet.date,\n",
        "                           tweet.hashtags,\n",
        "                           tweet.id,\n",
        "                           tweet.inReplyToTweetId,\n",
        "                           tweet.inReplyToUser,\n",
        "                           tweet_reply,\n",
        "                           tweet.lang,\n",
        "                           tweet.likeCount,\n",
        "                           tweet.media,\n",
        "                           tweet.mentionedUsers,\n",
        "                           tweet.outlinks,\n",
        "                           tweet.place,\n",
        "                           tweet.quoteCount,\n",
        "                           tweet.quotedTweet,\n",
        "                           tweet.renderedContent,\n",
        "                           tweet_type,\n",
        "                           tweet.replyCount,\n",
        "                           tweet.retweetCount,\n",
        "                           tweet.retweetedTweet,\n",
        "                           tweet.sourceLabel,\n",
        "                           tweet.url,\n",
        "                           tweet.user,\n",
        "                           tweet.user.username])\n",
        "            \n",
        "        \n",
        "except Exception as e:\n",
        "  print(e)\n",
        "    \n",
        "            "
      ],
      "metadata": {
        "id": "gsaB4l_v0nqP"
      },
      "execution_count": null,
      "outputs": []
    },
    {
      "cell_type": "code",
      "source": [],
      "metadata": {
        "id": "CQWGLE4Kg2b6"
      },
      "execution_count": null,
      "outputs": []
    },
    {
      "cell_type": "code",
      "source": [],
      "metadata": {
        "id": "PMTXUOh4g3M0"
      },
      "execution_count": null,
      "outputs": []
    },
    {
      "cell_type": "code",
      "source": [
        "final = pd.DataFrame(tweets, columns=(['conversationId',\n",
        "                                        'coordinates',\n",
        "                                        'date',\n",
        "                                        'hashtags',\n",
        "                                        'id',\n",
        "                                        'inReplyToTweetId',\n",
        "                                        'inReplyToUser_url',\n",
        "                                        'inReplyToUser',\n",
        "                                        'lang',\n",
        "                                        'likeCount',\n",
        "                                        'media',\n",
        "                                        'mentionedUsers',\n",
        "                                        'outlinks',\n",
        "                                        'place',\n",
        "                                        'quoteCount',\n",
        "                                        'quotedTweet',\n",
        "                                        'description',\n",
        "                                        'tweet_type',\n",
        "                                        'replyCount',\n",
        "                                        'retweetCount',\n",
        "                                        'retweetedTweet',\n",
        "                                        'source',\n",
        "                                        'tweet_url',\n",
        "                                        'user_url',\n",
        "                                        'username']))"
      ],
      "metadata": {
        "id": "XeT49sWp5IJR"
      },
      "execution_count": null,
      "outputs": []
    },
    {
      "cell_type": "code",
      "source": [
        "   ok=final['description']"
      ],
      "metadata": {
        "id": "ziHlIgOo5S7P"
      },
      "execution_count": null,
      "outputs": []
    },
    {
      "cell_type": "code",
      "source": [
        "ok"
      ],
      "metadata": {
        "id": "Y29ohNdbVMGu"
      },
      "execution_count": null,
      "outputs": []
    },
    {
      "cell_type": "code",
      "source": [
        "final"
      ],
      "metadata": {
        "id": "ilrNCZVVg4Mr"
      },
      "execution_count": null,
      "outputs": []
    }
  ]
}